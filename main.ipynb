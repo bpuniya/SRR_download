{
 "cells": [
  {
   "cell_type": "markdown",
   "id": "21101c34",
   "metadata": {},
   "source": [
    "### Make sure to have SRA toolbox installed (https://github.com/ncbi/sra-tools/wiki/) on your computer before running this code"
   ]
  },
  {
   "cell_type": "code",
   "execution_count": 1,
   "id": "c6da6904",
   "metadata": {},
   "outputs": [
    {
     "name": "stdout",
     "output_type": "stream",
     "text": [
      "\n"
     ]
    },
    {
     "name": "stderr",
     "output_type": "stream",
     "text": [
      "2023-11-09T17:47:15 prefetch.2.11.3 err: libs/vfs/names4-response.c:1937:ContainerProcessStatus: query unauthorized while resolving query within virtual file system module - failed to resolve accession 'SRR1234567' - Access denied - please request permission to access phs000348 / DS-CCRD-MDS in dbGaP. ( 403 )\n",
      "2023-11-09T17:47:15 prefetch.2.11.3: Current preference is set to retrieve SRA Normalized Format files with full base quality scores.\n"
     ]
    },
    {
     "name": "stdout",
     "output_type": "stream",
     "text": [
      "Error downloading or converting SRR1234567: Command '['prefetch', 'SRR1234567', '-o', 'downloaded_data/Study1']' returned non-zero exit status 3.\n",
      "\n"
     ]
    },
    {
     "name": "stderr",
     "output_type": "stream",
     "text": [
      "2023-11-09T17:47:16 prefetch.2.11.3: Current preference is set to retrieve SRA Normalized Format files with full base quality scores.\n",
      "2023-11-09T17:47:17 prefetch.2.11.3: downloaded_data/Study2 (not a file) is found locally: consider it complete\n",
      "2023-11-09T17:47:17 prefetch.2.11.3: 1) 'SRR7654321' is found locally\n"
     ]
    },
    {
     "name": "stdout",
     "output_type": "stream",
     "text": [
      "Read 337761 spots for SRR7654321\n",
      "Written 337761 spots for SRR7654321\n",
      "Successfully downloaded and converted SRR7654321 from Study2 to FASTQ format.\n",
      "\n"
     ]
    },
    {
     "name": "stderr",
     "output_type": "stream",
     "text": [
      "2023-11-09T17:47:44 prefetch.2.11.3: Current preference is set to retrieve SRA Normalized Format files with full base quality scores.\n",
      "2023-11-09T17:47:44 prefetch.2.11.3: downloaded_data/Study1 (not a file) is found locally: consider it complete\n",
      "2023-11-09T17:47:44 prefetch.2.11.3: 1) 'SRR9876543' is found locally\n"
     ]
    },
    {
     "name": "stdout",
     "output_type": "stream",
     "text": [
      "Read 931059 spots for SRR9876543\n",
      "Written 931059 spots for SRR9876543\n",
      "Successfully downloaded and converted SRR9876543 from Study1 to FASTQ format.\n"
     ]
    }
   ],
   "source": [
    "# Import functions from functions.py\n",
    "from download_fastq import read_csv_config, download_fastq\n",
    "\n",
    "# Read the CSV configuration file\n",
    "config_file = 'config.csv' # add the config.csv file in the same directory as main.ipynb\n",
    "srr_to_study = read_csv_config(config_file)\n",
    "\n",
    "# Create a directory to store the downloaded data\n",
    "output_base_dir = 'downloaded_data'\n",
    "\n",
    "# Iterate through SRR IDs and download data\n",
    "for srr_id, study_name in srr_to_study.items():\n",
    "    download_fastq(srr_id, study_name, output_base_dir)"
   ]
  },
  {
   "cell_type": "code",
   "execution_count": null,
   "id": "e51a4011",
   "metadata": {},
   "outputs": [],
   "source": []
  },
  {
   "cell_type": "code",
   "execution_count": null,
   "id": "728fcf1a",
   "metadata": {},
   "outputs": [],
   "source": []
  }
 ],
 "metadata": {
  "kernelspec": {
   "display_name": "Python 3 (ipykernel)",
   "language": "python",
   "name": "python3"
  },
  "language_info": {
   "codemirror_mode": {
    "name": "ipython",
    "version": 3
   },
   "file_extension": ".py",
   "mimetype": "text/x-python",
   "name": "python",
   "nbconvert_exporter": "python",
   "pygments_lexer": "ipython3",
   "version": "3.11.5"
  }
 },
 "nbformat": 4,
 "nbformat_minor": 5
}
